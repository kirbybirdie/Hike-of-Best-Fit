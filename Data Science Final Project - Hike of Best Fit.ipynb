{
 "cells": [
  {
   "cell_type": "code",
   "execution_count": 0,
   "metadata": {
    "collapsed": false
   },
   "outputs": [
   ],
   "source": [
    "#load in the data\n",
    "import requests\n",
    "import json\n",
    "\n",
    "url = 'https://raw.githubusercontent.com/j-ane/trail-data/master/State%20Trail%20Data/Oregon.json'\n",
    "\n",
    "data = requests.get(url)\n",
    "oregon_hikes_info = json.loads(data.text)\n",
    "\n",
    "oregon_hikes_info\n",
    "\n",
    "\n",
    "\n",
    "#splash screen\n",
    "print(r\"\"\"\n",
    "          /\\\n",
    "         /**\\\n",
    "        /****\\   /\\\n",
    "       /      \\ /**\\\n",
    "      /  /\\    /    \\        /\\    /\\  /\\      /\\            /\\/\\/\\  /\\\n",
    "     /  /  \\  /      \\      /  \\/\\/  \\/  \\  /\\/  \\/\\  /\\  /\\/ / /  \\/  \\\n",
    "    /  /    \\/ /\\     \\    /    \\ \\  /    \\/ /   /  \\/  \\/  \\  /    \\   \\\n",
    "   /  /      \\/  \\/\\   \\  /      \\    /   /    \\\n",
    "__/__/_______/___/__\\___\\__________________________________________________\n",
    "\n",
    "                ╦ ╦┬┬┌─┌─┐  ┌─┐┌─┐  ╔╗ ┌─┐┌─┐┌┬┐  ╔═╗┬┌┬┐┬\n",
    "                ╠═╣│├┴┐├┤   │ │├┤   ╠╩╗├┤ └─┐ │   ╠╣ │ │ │\n",
    "                ╩ ╩┴┴ ┴└─┘  └─┘└    ╚═╝└─┘└─┘ ┴   ╚  ┴ ┴ o\n",
    "\"\"\")\n",
    "\n",
    "\n",
    "\n",
    "\n",
    "#user input/questions\n",
    "\n",
    "print('Welcome to the Hike of Best Fit! Answer the questions and you will find your personal Oregon hike of best fit!')\n",
    "\n",
    "city_yn = input('Do you have a prefered city for the location of your hike? Yes or No?')\n",
    "\n",
    "if city_yn.lower() == 'yes':\n",
    "    pref_city = input('What is your prefered city? Example answer: Salem')\n",
    "else:\n",
    "    pref_city = ''\n",
    "\n",
    "pref_difficulty = int(input('What is your prefered hike difficulty on a scale of 1-4?'))\n",
    "\n",
    "pref_elevation = int(input('What is your prefered elevation gain for your hike in feet? Easy ~ 500ft or less. Hard ~ 4,500ft or more. Example answer: 750'))\n",
    "\n",
    "pref_length = int(input('What is your ideal total length of your hike in miles? Example answer: 3'))\n",
    "\n",
    "pref_type = input('Do you want an Out-and-Back, Point-to-Point, or Loop trail? Answer with O, P, or L.')\n",
    "\n",
    "print('Out of the following:\\nCave, Dogs No, Forest, Kid Friendly, Hot Springs, River, Views, Waterfall, Wild Flowers, Wildlife, Dogs Leash, Partially Paved, Lake, Beach, Historic Site, Dogs, Paved, Wheelchair Friendly, Stroller Friendly, City Walk, Rails Trails, Event.')\n",
    "pref_features = input('What features for the hike are most important to you? Choose 2 different features seperated by a comma. Answer exactly how the feature is written (upper case and spaces). Example answer: Cave, Dogs No')\n",
    "\n",
    "print('Out of the following:\\nBird Watching, Camping, Hiking, Nature Trips, Running, Walking, Mountain Biking, Snowshoeing, Fishing, Backpacking, Rock Climbing, Skiing, Paddle Sports, Cross Country Skiing, Horseback Riding, Road Biking, Bike Touring, Scenic Driving, OHV/Off Road Driving, Surfing.')\n",
    "pref_activities = input('What activies available on the hike are most important to you? Choose 2 different activities seperated by a comma. Answer exactly how the activity is written (upper case and spaces). Example answer: Bird Watching, Camping') \n",
    "\n",
    "\n",
    "\n",
    "#scoring dictionary\n",
    "score_dict = {}\n",
    "\n",
    "for hike in oregon_hikes_info:\n",
    "    score_dict[hike['name']] = 0\n",
    "\n",
    "score_dict\n",
    "\n",
    "scores = []\n",
    "\n",
    "\n",
    "\n",
    "#Calculating score based on attribute for each hike\n",
    "for hike in oregon_hikes_info:\n",
    "    if hike['city_name'] == pref_city:\n",
    "        score_dict[hike['name']] += 5\n",
    "\n",
    "    hike_difficulty = 0\n",
    "    if hike['difficulty_rating'] == '1':\n",
    "        hike_difficulty = 1\n",
    "    if hike['difficulty_rating'] == '3':\n",
    "        hike_difficulty = 2\n",
    "    if hike['difficulty_rating'] == '5':\n",
    "        hike_difficulty = 3\n",
    "    if hike['difficulty_rating'] == '7':\n",
    "        hike_difficulty = 4\n",
    "    if hike_difficulty == pref_difficulty:   \n",
    "        score_dict[hike['name']] += 5\n",
    "\n",
    "    if abs(int(hike['elevation_gain']*3.28084) - int(pref_elevation)) <= 500:\n",
    "        score_dict[hike['name']] += 5\n",
    "\n",
    "    if abs(int(hike['length']*0.00062137) - int(pref_length)) <= 3:\n",
    "        score_dict[hike['name']] += 5\n",
    "\n",
    "    if hike['route_type'] == pref_type:\n",
    "        score_dict[hike['name']] += 3\n",
    "\n",
    "    pref_features.split(',')\n",
    "    for i in range(0,2):\n",
    "        for feat in hike['feature_names']:\n",
    "            if pref_features[i].strip() == feat:\n",
    "                score_dict[hike['name']] += 3\n",
    "\n",
    "    pref_activities.split(',')\n",
    "    for i in range(0,2):\n",
    "        if pref_activities[i].strip() in hike['activity_names']:   \n",
    "            score_dict[hike['name']] += 3\n",
    "\n",
    "score_dict\n",
    "\n",
    "\n",
    "\n",
    "#calculating the best hikes based on score\n",
    "\n",
    "from heapq import nlargest    #new import nlargest\n",
    "\n",
    "three_top_hikes = nlargest(3, score_dict, key = score_dict.get)\n",
    "\n",
    "print('\\033[1m' + 'Your top 3 reccomended Oregon hikes!\\n')\n",
    "\n",
    "for val in three_top_hikes:\n",
    "    print('\\033[92m' + val,\": with a score of \", score_dict.get(val))\n",
    "\n",
    "if 'CLOSED' in three_top_hikes:\n",
    "    print('Watch out, at least one of your recommended hikes is closed :(')\n",
    "\n",
    "if 'PRIVATE PROPERTY' in three_top_hikes:\n",
    "    print('Watch out, at least one of your recommended hikes is on private property :(')"
   ]
  },
  {
   "cell_type": "code",
   "execution_count": 0,
   "metadata": {
    "collapsed": false
   },
   "outputs": [
   ],
   "source": [
    "#Welcome to the Hike of Best Fit! Answer the questions and you will find your personal hike of best fit!\n",
    "\n",
    "#Do you have a prefered city for the location of your hike? Yes or No?\n",
    "\n",
    "#What is your prefered city?\n",
    "\n",
    "#What is your prefered hike dificulty on a scale of 1-4 (1,3,5,7?uhhh)\n",
    "\n",
    "#What is your prefered elevation gain for your hike? Easy ~ 500ft or less. Hard ~ 4,500ft or more.\n",
    "\n",
    "#What is your ideal total length of your hike in miles?\n",
    "\n",
    "#Do you want a Out-and-Back, Point-to-Point, or Loop trail? Answer with O,P,or L.\n",
    "\n",
    "#Out of the following:\n",
    "#Cave, no dogs allowed, dogs on leash, dogs allowed, forested, partially paved, a lake, a beach, historic site, completely paved, wheelchair friendly, stroller friencly, city walk, rails trails, kid friendly, social event, a hot spring, a river, beautiful views, a waterfall, wild flowers, and general wildlife.\n",
    "#What features of the hike are most important to you? Choose 2.\n",
    "\n",
    "#Out of the following:\n",
    "#Bird watching, camping, hiking, nature trips, running, walking, mountain biking, snowshoeing, fishing, backpacking, rock climbing, skiing, saddle sports, cross country skiing, horseback riding, road biking, bike touring, scenic driving, OHV/off road driving, and surfing.\n",
    "#What activies available on the hike are most important to you? Choose 2.\n"
   ]
  },
  {
   "cell_type": "code",
   "execution_count": 4,
   "metadata": {
    "cocalc": {
     "outputs": {
      "1": {
       "name": "input",
       "opts": {
        "password": false,
        "prompt": "Do you have a prefered city for the location of your hike? Yes or No?"
       },
       "output_type": "stream"
      },
      "10": {
       "name": "input",
       "opts": {
        "password": false,
        "prompt": "What activies available on the hike are most important to you? Choose 2 different activities seperated by a comma. Answer exactly how the activity is written (upper case and spaces). Example answer: Bird Watching, Camping"
       },
       "output_type": "stream",
       "value": "Lake, Lake"
      },
      "2": {
       "name": "input",
       "opts": {
        "password": false,
        "prompt": "What is your prefered city? Example answer: Salem"
       },
       "output_type": "stream",
       "value": "Salem"
      },
      "3": {
       "name": "input",
       "opts": {
        "password": false,
        "prompt": "What is your prefered hike difficulty on a scale of 1-4?"
       },
       "output_type": "stream",
       "value": "3"
      },
      "4": {
       "name": "input",
       "opts": {
        "password": false,
        "prompt": "What is your prefered elevation gain for your hike in feet? Easy ~ 500ft or less. Hard ~ 4,500ft or more. Example answer: 750"
       },
       "output_type": "stream",
       "value": "500"
      },
      "5": {
       "name": "input",
       "opts": {
        "password": false,
        "prompt": "What is your ideal total length of your hike in miles? Example answer: 3"
       },
       "output_type": "stream",
       "value": "4"
      },
      "6": {
       "name": "input",
       "opts": {
        "password": false,
        "prompt": "Do you want an Out-and-Back, Point-to-Point, or Loop trail? Answer with O, P, or L."
       },
       "output_type": "stream",
       "value": "L"
      },
      "7": {
       "name": "input",
       "opts": {
        "password": false,
        "prompt": "What features for the hike are most important to you? Choose 2 different features seperated by a comma. Answer exactly how the feature is written (upper case and spaces). Example: Cave, Dogs No"
       },
       "output_type": "stream",
       "value": "Lake, Lak"
      },
      "8": {
       "name": "input",
       "opts": {
        "password": false,
        "prompt": "What features for the hike are most important to you? Choose 2 different features seperated by a comma. Answer exactly how the feature is written (upper case and spaces). Example answer: Cave, Dogs No"
       },
       "output_type": "stream",
       "value": "Lake, Lake"
      }
     }
    },
    "collapsed": false
   },
   "outputs": [
    {
     "name": "stdout",
     "output_type": "stream",
     "text": [
      "\n",
      "          /\\\n",
      "         /**\\\n",
      "        /****\\   /\\\n",
      "       /      \\ /**\\\n",
      "      /  /\\    /    \\        /\\    /\\  /\\      /\\            /\\/\\/\\  /\\\n",
      "     /  /  \\  /      \\      /  \\/\\/  \\/  \\  /\\/  \\/\\  /\\  /\\/ / /  \\/  \\\n",
      "    /  /    \\/ /\\     \\    /    \\ \\  /    \\/ /   /  \\/  \\/  \\  /    \\   \\\n",
      "   /  /      \\/  \\/\\   \\  /      \\    /   /    \\\n",
      "__/__/_______/___/__\\___\\__________________________________________________\n",
      "\n",
      "                ╦ ╦┬┬┌─┌─┐  ┌─┐┌─┐  ╔╗ ┌─┐┌─┐┌┬┐  ╔═╗┬┌┬┐┬\n",
      "                ╠═╣│├┴┐├┤   │ │├┤   ╠╩╗├┤ └─┐ │   ╠╣ │ │ │\n",
      "                ╩ ╩┴┴ ┴└─┘  └─┘└    ╚═╝└─┘└─┘ ┴   ╚  ┴ ┴ o\n",
      "\n",
      "Welcome to the Hike of Best Fit! Answer the questions and you will find your personal Oregon hike of best fit!\n"
     ]
    },
    {
     "name": "stdout",
     "output_type": "stream",
     "text": "Do you have a prefered city for the location of your hike? Yes or No? "
    }
   ],
   "source": [
    "#load in the data\n",
    "import requests\n",
    "import json\n",
    "\n",
    "url = 'https://raw.githubusercontent.com/j-ane/trail-data/master/State%20Trail%20Data/Oregon.json'\n",
    "\n",
    "data = requests.get(url)\n",
    "oregon_hikes_info = json.loads(data.text)\n",
    "\n",
    "oregon_hikes_info\n",
    "\n",
    "\n",
    "\n",
    "#splash screen\n",
    "print(r\"\"\"\n",
    "          /\\\n",
    "         /**\\\n",
    "        /****\\   /\\\n",
    "       /      \\ /**\\\n",
    "      /  /\\    /    \\        /\\    /\\  /\\      /\\            /\\/\\/\\  /\\\n",
    "     /  /  \\  /      \\      /  \\/\\/  \\/  \\  /\\/  \\/\\  /\\  /\\/ / /  \\/  \\\n",
    "    /  /    \\/ /\\     \\    /    \\ \\  /    \\/ /   /  \\/  \\/  \\  /    \\   \\\n",
    "   /  /      \\/  \\/\\   \\  /      \\    /   /    \\\n",
    "__/__/_______/___/__\\___\\__________________________________________________\n",
    "\n",
    "                ╦ ╦┬┬┌─┌─┐  ┌─┐┌─┐  ╔╗ ┌─┐┌─┐┌┬┐  ╔═╗┬┌┬┐┬\n",
    "                ╠═╣│├┴┐├┤   │ │├┤   ╠╩╗├┤ └─┐ │   ╠╣ │ │ │\n",
    "                ╩ ╩┴┴ ┴└─┘  └─┘└    ╚═╝└─┘└─┘ ┴   ╚  ┴ ┴ o\n",
    "\"\"\")\n",
    "\n",
    "\n",
    "\n",
    "\n",
    "#user input/questions\n",
    "\n",
    "print('Welcome to the Hike of Best Fit! Answer the questions and you will find your personal Oregon hike of best fit!')\n",
    "\n",
    "city_yn = input('Do you have a prefered city for the location of your hike? Yes or No?')\n",
    "\n",
    "if city_yn.lower() == 'yes':\n",
    "    pref_city = input('What is your prefered city? Example answer: Salem')\n",
    "else:\n",
    "    pref_city = ''\n",
    "\n",
    "pref_difficulty = int(input('What is your prefered hike difficulty on a scale of 1-4?'))\n",
    "\n",
    "pref_elevation = int(input('What is your prefered elevation gain for your hike in feet? Easy ~ 500ft or less. Hard ~ 4,500ft or more. Example answer: 750'))\n",
    "\n",
    "pref_length = int(input('What is your ideal total length of your hike in miles? Example answer: 3'))\n",
    "\n",
    "pref_type = input('Do you want an Out-and-Back, Point-to-Point, or Loop trail? Answer with O, P, or L.')\n",
    "\n",
    "print('Out of the following:\\nCave, Dogs No, Forest, Kid Friendly, Hot Springs, River, Views, Waterfall, Wild Flowers, Wildlife, Dogs Leash, Partially Paved, Lake, Beach, Historic Site, Dogs, Paved, Wheelchair Friendly, Stroller Friendly, City Walk, Rails Trails, Event.')\n",
    "pref_features = input('What features for the hike are most important to you? Choose 2 different features seperated by a comma. Answer exactly how the feature is written (upper case and spaces). Example answer: Cave, Dogs No')\n",
    "\n",
    "print('Out of the following:\\nBird Watching, Camping, Hiking, Nature Trips, Running, Walking, Mountain Biking, Snowshoeing, Fishing, Backpacking, Rock Climbing, Skiing, Paddle Sports, Cross Country Skiing, Horseback Riding, Road Biking, Bike Touring, Scenic Driving, OHV/Off Road Driving, Surfing.')\n",
    "pref_activities = input('What activies available on the hike are most important to you? Choose 2 different activities seperated by a comma. Answer exactly how the activity is written (upper case and spaces). Example answer: Bird Watching, Camping') \n",
    "\n",
    "\n",
    "\n",
    "#scoring dictionary\n",
    "score_dict = {}\n",
    "\n",
    "for hike in oregon_hikes_info:\n",
    "    score_dict[hike['name']] = 0\n",
    "\n",
    "score_dict\n",
    "\n",
    "scores = []\n",
    "\n",
    "\n",
    "\n",
    "#Calculating score based on attribute for each hike\n",
    "for hike in oregon_hikes_info:\n",
    "    if hike['city_name'] == pref_city:\n",
    "        score_dict[hike['name']] += 5\n",
    "\n",
    "    hike_difficulty = 0\n",
    "    if hike['difficulty_rating'] == '1':\n",
    "        hike_difficulty = 1\n",
    "    if hike['difficulty_rating'] == '3':\n",
    "        hike_difficulty = 2\n",
    "    if hike['difficulty_rating'] == '5':\n",
    "        hike_difficulty = 3\n",
    "    if hike['difficulty_rating'] == '7':\n",
    "        hike_difficulty = 4\n",
    "    if hike_difficulty == pref_difficulty:   \n",
    "        score_dict[hike['name']] += 5\n",
    "\n",
    "    if abs(int(hike['elevation_gain']*3.28084) - int(pref_elevation)) <= 500:\n",
    "        score_dict[hike['name']] += 5\n",
    "\n",
    "    if abs(int(hike['length']*0.00062137) - int(pref_length)) <= 3:\n",
    "        score_dict[hike['name']] += 5\n",
    "\n",
    "    if hike['route_type'] == pref_type:\n",
    "        score_dict[hike['name']] += 3\n",
    "\n",
    "    pref_features.split(',')\n",
    "    for i in range(0,2):\n",
    "        for feat in hike['feature_names']:\n",
    "            if pref_features[i].strip() == feat:\n",
    "                score_dict[hike['name']] += 3\n",
    "\n",
    "    pref_activities.split(',')\n",
    "    for i in range(0,2):\n",
    "        if pref_activities[i].strip() in hike['activity_names']:   \n",
    "            score_dict[hike['name']] += 3\n",
    "\n",
    "score_dict\n",
    "\n",
    "\n",
    "\n",
    "#calculating the best hikes based on score\n",
    "\n",
    "from heapq import nlargest    #new import nlargest\n",
    "\n",
    "three_top_hikes = nlargest(3, score_dict, key = score_dict.get)\n",
    "\n",
    "print('\\033[1m' + 'Your top 3 reccomended Oregon hikes!\\n')\n",
    "\n",
    "for val in three_top_hikes:\n",
    "    print('\\033[92m' + val,\": with a score of \", score_dict.get(val))\n",
    "\n",
    "if 'CLOSED' in three_top_hikes:\n",
    "    print('Watch out, at least one of your recommended hikes is closed :(')\n",
    "\n",
    "if 'PRIVATE PROPERTY' in three_top_hikes:\n",
    "    print('Watch out, at least one of your recommended hikes is on private property :(')"
   ]
  },
  {
   "cell_type": "code",
   "execution_count": 3,
   "metadata": {
    "collapsed": false
   },
   "outputs": [
    {
     "name": "stdout",
     "output_type": "stream",
     "text": [
      "{'objectID': 'trail-10042384', 'ID': 10042384, 'slug': 'us/oregon/wahkeena-falls-loop-trail', 'name': 'Wahkeena Falls Loop Trail ', 'popularity': 30.607, 'type': 'trail', '_geoloc': {'lat': 45.5774, 'lng': -122.11703}, 'length': 7402.964, 'elevation_gain': 467.86800000000005, 'difficulty_rating': '3', 'route_type': 'L', 'visitor_usage': '3', 'avg_rating': 4.5, 'area_id': 10157908, 'area_name': 'Columbia River Gorge National Scenic Area', 'country_id': 313, 'country_name': 'United States', 'city_id': 929, 'city_name': 'Bridal Veil', 'state_id': 38, 'state_name': 'Oregon', 'verified_map_id': 24772177, 'features': ['dogs-leash', 'forest', 'kids', 'river', 'views', 'waterfall', 'wild-flowers', 'wildlife'], 'activities': ['birding', 'hiking', 'nature-trips', 'rock-climbing', 'trail-running', 'walking', 'ice-climbing'], 'feature_names': ['Dogs Leash', 'Forest', 'Kid Friendly', 'River', 'Views', 'Waterfall', 'Wild Flowers', 'Wildlife'], 'activity_names': ['Bird Watching', 'Hiking', 'Nature Trips', 'Rock Climbing', 'Running', 'Walking'], 'overview': None, 'num_reviews': 376, 'units': 'i', 'area_slug': 'parks/us/oregon/columbia-river-gorge-national-scenic-area', 'trail_id': 10042384, 'city_url': 'us/oregon/bridal-veil', 'park_slug': 'us/oregon/columbia-river-gorge-national-scenic-area', 'profile_photo_url': 'https://cdn-assets.alltrails.com/uploads/photo/image/11721571/large_4486c698ba222cac565525c3b2678d7c.jpg'}\n"
     ]
    }
   ],
   "source": [
    "#NOTES\n",
    "\n",
    "#strips????????\n",
    "#fix activities and features\n",
    "#take out closed and private property hikes?\n",
    "#go through user answer formates...\n",
    "\n",
    "#attributes I am using: length, elevation_gain, difficulty_rating, route_type (Loop trails,Out-and-Back, Point-to-Point), avg_rating, city_name, feature_names(lists off..), activity_names(lists off..)\n",
    "\n",
    "#\n",
    "#good way to describe project:\n",
    "#-utilizing and revamping all trails\n",
    "#-great way to review,.....many things we have learned ALL throughout the year\n",
    "#-useful for hike lovers!!!\n"
   ]
  },
  {
   "cell_type": "code",
   "execution_count": 0,
   "metadata": {
    "collapsed": false
   },
   "outputs": [
   ],
   "source": [
    "#sources used\n",
    "\n",
    "#https://github.com/j-ane/trail-data\n",
    "#https://raw.githubusercontent.com/j-ane/trail-data/master/State%20Trail%20Data/Oregon.json\n",
    "#https://www.alltrails.com/us/oregon\n",
    "#https://stackoverflow.com/\n",
    "#https://www.asciiart.eu/nature/mountains\n",
    "#https://stackoverflow.com/questions/23623288/print-full-ascii-art\n",
    "#https://patorjk.com/software/taag/#p=display&f=3D-ASCII&t=Hike%20of%20Best%20Fit!\n",
    "#https://slidesgo.com/theme/highest-mountain-ranges-in-the-world#search-mountain&position-4&results-12&rs=search\n",
    "#https://www.geeksforgeeks.org/python-program-to-find-the-highest-3-values-in-a-dictionary/\n",
    "#https://stackoverflow.com/questions/8924173/how-can-i-print-bold-text-in-python"
   ]
  },
  {
   "cell_type": "code",
   "execution_count": 52,
   "metadata": {
    "collapsed": false
   },
   "outputs": [
    {
     "ename": "JSONDecodeError",
     "evalue": "Expecting value: line 1 column 1 (char 0)",
     "output_type": "error",
     "traceback": [
      "\u001b[0;31m---------------------------------------------------------------------------\u001b[0m",
      "\u001b[0;31mJSONDecodeError\u001b[0m                           Traceback (most recent call last)",
      "\u001b[0;32m/tmp/ipykernel_403/1533038290.py\u001b[0m in \u001b[0;36m<cell line: 8>\u001b[0;34m()\u001b[0m\n\u001b[1;32m      6\u001b[0m \u001b[0mparams\u001b[0m \u001b[0;34m=\u001b[0m \u001b[0;34m{\u001b[0m\u001b[0;34m\"api-key\"\u001b[0m\u001b[0;34m:\u001b[0m \u001b[0mkey\u001b[0m\u001b[0;34m}\u001b[0m\u001b[0;34m\u001b[0m\u001b[0;34m\u001b[0m\u001b[0m\n\u001b[1;32m      7\u001b[0m \u001b[0mdata\u001b[0m \u001b[0;34m=\u001b[0m \u001b[0mrequests\u001b[0m\u001b[0;34m.\u001b[0m\u001b[0mget\u001b[0m\u001b[0;34m(\u001b[0m\u001b[0murl\u001b[0m\u001b[0;34m,\u001b[0m \u001b[0mparams\u001b[0m\u001b[0;34m=\u001b[0m\u001b[0mparams\u001b[0m\u001b[0;34m)\u001b[0m\u001b[0;34m\u001b[0m\u001b[0;34m\u001b[0m\u001b[0m\n\u001b[0;32m----> 8\u001b[0;31m \u001b[0mjs\u001b[0m \u001b[0;34m=\u001b[0m \u001b[0mjson\u001b[0m\u001b[0;34m.\u001b[0m\u001b[0mloads\u001b[0m\u001b[0;34m(\u001b[0m\u001b[0mdata\u001b[0m\u001b[0;34m.\u001b[0m\u001b[0mcontent\u001b[0m\u001b[0;34m)\u001b[0m\u001b[0;34m\u001b[0m\u001b[0;34m\u001b[0m\u001b[0m\n\u001b[0m\u001b[1;32m      9\u001b[0m \u001b[0mresponse\u001b[0m \u001b[0;34m=\u001b[0m \u001b[0mrequests\u001b[0m\u001b[0;34m.\u001b[0m\u001b[0mget\u001b[0m\u001b[0;34m(\u001b[0m\u001b[0mjs\u001b[0m\u001b[0;34m[\u001b[0m\u001b[0;36m0\u001b[0m\u001b[0;34m]\u001b[0m\u001b[0;34m[\u001b[0m\u001b[0;34m'url'\u001b[0m\u001b[0;34m]\u001b[0m\u001b[0;34m)\u001b[0m\u001b[0;34m\u001b[0m\u001b[0;34m\u001b[0m\u001b[0m\n\u001b[1;32m     10\u001b[0m \u001b[0;34m\u001b[0m\u001b[0m\n",
      "\u001b[0;32m/usr/lib/python3.10/json/__init__.py\u001b[0m in \u001b[0;36mloads\u001b[0;34m(s, cls, object_hook, parse_float, parse_int, parse_constant, object_pairs_hook, **kw)\u001b[0m\n\u001b[1;32m    344\u001b[0m             \u001b[0mparse_int\u001b[0m \u001b[0;32mis\u001b[0m \u001b[0;32mNone\u001b[0m \u001b[0;32mand\u001b[0m \u001b[0mparse_float\u001b[0m \u001b[0;32mis\u001b[0m \u001b[0;32mNone\u001b[0m \u001b[0;32mand\u001b[0m\u001b[0;34m\u001b[0m\u001b[0;34m\u001b[0m\u001b[0m\n\u001b[1;32m    345\u001b[0m             parse_constant is None and object_pairs_hook is None and not kw):\n\u001b[0;32m--> 346\u001b[0;31m         \u001b[0;32mreturn\u001b[0m \u001b[0m_default_decoder\u001b[0m\u001b[0;34m.\u001b[0m\u001b[0mdecode\u001b[0m\u001b[0;34m(\u001b[0m\u001b[0ms\u001b[0m\u001b[0;34m)\u001b[0m\u001b[0;34m\u001b[0m\u001b[0;34m\u001b[0m\u001b[0m\n\u001b[0m\u001b[1;32m    347\u001b[0m     \u001b[0;32mif\u001b[0m \u001b[0mcls\u001b[0m \u001b[0;32mis\u001b[0m \u001b[0;32mNone\u001b[0m\u001b[0;34m:\u001b[0m\u001b[0;34m\u001b[0m\u001b[0;34m\u001b[0m\u001b[0m\n\u001b[1;32m    348\u001b[0m         \u001b[0mcls\u001b[0m \u001b[0;34m=\u001b[0m \u001b[0mJSONDecoder\u001b[0m\u001b[0;34m\u001b[0m\u001b[0;34m\u001b[0m\u001b[0m\n",
      "\u001b[0;32m/usr/lib/python3.10/json/decoder.py\u001b[0m in \u001b[0;36mdecode\u001b[0;34m(self, s, _w)\u001b[0m\n\u001b[1;32m    335\u001b[0m \u001b[0;34m\u001b[0m\u001b[0m\n\u001b[1;32m    336\u001b[0m         \"\"\"\n\u001b[0;32m--> 337\u001b[0;31m         \u001b[0mobj\u001b[0m\u001b[0;34m,\u001b[0m \u001b[0mend\u001b[0m \u001b[0;34m=\u001b[0m \u001b[0mself\u001b[0m\u001b[0;34m.\u001b[0m\u001b[0mraw_decode\u001b[0m\u001b[0;34m(\u001b[0m\u001b[0ms\u001b[0m\u001b[0;34m,\u001b[0m \u001b[0midx\u001b[0m\u001b[0;34m=\u001b[0m\u001b[0m_w\u001b[0m\u001b[0;34m(\u001b[0m\u001b[0ms\u001b[0m\u001b[0;34m,\u001b[0m \u001b[0;36m0\u001b[0m\u001b[0;34m)\u001b[0m\u001b[0;34m.\u001b[0m\u001b[0mend\u001b[0m\u001b[0;34m(\u001b[0m\u001b[0;34m)\u001b[0m\u001b[0;34m)\u001b[0m\u001b[0;34m\u001b[0m\u001b[0;34m\u001b[0m\u001b[0m\n\u001b[0m\u001b[1;32m    338\u001b[0m         \u001b[0mend\u001b[0m \u001b[0;34m=\u001b[0m \u001b[0m_w\u001b[0m\u001b[0;34m(\u001b[0m\u001b[0ms\u001b[0m\u001b[0;34m,\u001b[0m \u001b[0mend\u001b[0m\u001b[0;34m)\u001b[0m\u001b[0;34m.\u001b[0m\u001b[0mend\u001b[0m\u001b[0;34m(\u001b[0m\u001b[0;34m)\u001b[0m\u001b[0;34m\u001b[0m\u001b[0;34m\u001b[0m\u001b[0m\n\u001b[1;32m    339\u001b[0m         \u001b[0;32mif\u001b[0m \u001b[0mend\u001b[0m \u001b[0;34m!=\u001b[0m \u001b[0mlen\u001b[0m\u001b[0;34m(\u001b[0m\u001b[0ms\u001b[0m\u001b[0;34m)\u001b[0m\u001b[0;34m:\u001b[0m\u001b[0;34m\u001b[0m\u001b[0;34m\u001b[0m\u001b[0m\n",
      "\u001b[0;32m/usr/lib/python3.10/json/decoder.py\u001b[0m in \u001b[0;36mraw_decode\u001b[0;34m(self, s, idx)\u001b[0m\n\u001b[1;32m    353\u001b[0m             \u001b[0mobj\u001b[0m\u001b[0;34m,\u001b[0m \u001b[0mend\u001b[0m \u001b[0;34m=\u001b[0m \u001b[0mself\u001b[0m\u001b[0;34m.\u001b[0m\u001b[0mscan_once\u001b[0m\u001b[0;34m(\u001b[0m\u001b[0ms\u001b[0m\u001b[0;34m,\u001b[0m \u001b[0midx\u001b[0m\u001b[0;34m)\u001b[0m\u001b[0;34m\u001b[0m\u001b[0;34m\u001b[0m\u001b[0m\n\u001b[1;32m    354\u001b[0m         \u001b[0;32mexcept\u001b[0m \u001b[0mStopIteration\u001b[0m \u001b[0;32mas\u001b[0m \u001b[0merr\u001b[0m\u001b[0;34m:\u001b[0m\u001b[0;34m\u001b[0m\u001b[0;34m\u001b[0m\u001b[0m\n\u001b[0;32m--> 355\u001b[0;31m             \u001b[0;32mraise\u001b[0m \u001b[0mJSONDecodeError\u001b[0m\u001b[0;34m(\u001b[0m\u001b[0;34m\"Expecting value\"\u001b[0m\u001b[0;34m,\u001b[0m \u001b[0ms\u001b[0m\u001b[0;34m,\u001b[0m \u001b[0merr\u001b[0m\u001b[0;34m.\u001b[0m\u001b[0mvalue\u001b[0m\u001b[0;34m)\u001b[0m \u001b[0;32mfrom\u001b[0m \u001b[0;32mNone\u001b[0m\u001b[0;34m\u001b[0m\u001b[0;34m\u001b[0m\u001b[0m\n\u001b[0m\u001b[1;32m    356\u001b[0m         \u001b[0;32mreturn\u001b[0m \u001b[0mobj\u001b[0m\u001b[0;34m,\u001b[0m \u001b[0mend\u001b[0m\u001b[0;34m\u001b[0m\u001b[0;34m\u001b[0m\u001b[0m\n",
      "\u001b[0;31mJSONDecodeError\u001b[0m: Expecting value: line 1 column 1 (char 0)"
     ]
    }
   ],
   "source": [
    "from IPython.display import Image\n",
    "from IPython.core.display import HTML \n",
    "\n",
    "url = 'https://cdn-assets.alltrails.com/uploads/photo/image/11460442/large_f53c0353f5abb373f34c921cef4eea60.jpg'\n",
    "\n",
    "params = {\"api-key\": key}\n",
    "data = requests.get(url, params=params)\n",
    "js = json.loads(data.content)\n",
    "response = requests.get(js[0]['url'])\n",
    "\n",
    "with open('cat.jpg', 'wb') as f:\n",
    "        f.write(response.content)\n",
    "\n",
    "Image('cat.jpg', width=500)\n"
   ]
  },
  {
   "cell_type": "code",
   "execution_count": 0,
   "metadata": {
    "collapsed": false
   },
   "outputs": [
   ],
   "source": [
    "# hike info example\n",
    "\n",
    "#     {'objectID': 'trail-10118815',\n",
    "#   'ID': 10118815,\n",
    "#   'slug': 'us/oregon/trail-of-ten-falls-canyon-trail',\n",
    "#   'name': 'Trail of Ten Falls',\n",
    "#   'popularity': 54.1815,\n",
    "#   'type': 'trail',\n",
    "#   '_geoloc': {'lat': 44.87698, 'lng': -122.65468},\n",
    "#   'length': 12230.984,\n",
    "#   'elevation_gain': 363.93120000000005,\n",
    "#   'difficulty_rating': '3',\n",
    "#   'route_type': 'L',\n",
    "#   'visitor_usage': '4',\n",
    "#   'avg_rating': 4.5,\n",
    "#   'area_id': 10114289,\n",
    "#   'area_name': 'Silver Falls State Park',\n",
    "#   'country_id': 313,\n",
    "#   'country_name': 'United States',\n",
    "#   'city_id': 7528,\n",
    "#   'city_name': 'Silverton',\n",
    "#   'state_id': 38,\n",
    "#   'state_name': 'Oregon',\n",
    "#   'verified_map_id': 25950737,\n",
    "#   'features': ['cave',\n",
    "#    'dogs-no',\n",
    "#    'forest',\n",
    "#    'kids',\n",
    "#    'hot-springs',\n",
    "#    'river',\n",
    "#    'views',\n",
    "#    'waterfall',\n",
    "#    'wild-flowers',\n",
    "#    'wildlife'],\n",
    "#   'activities': ['birding',\n",
    "#    'camping',\n",
    "#    'hiking',\n",
    "#    'nature-trips',\n",
    "#    'trail-running',\n",
    "#    'walking'],\n",
    "#   'feature_names': ['Cave',\n",
    "#    'Dogs No',\n",
    "#    'Forest',\n",
    "#    'Kid Friendly',\n",
    "#    'Hot Springs',\n",
    "#    'River',\n",
    "#    'Views',\n",
    "#    'Waterfall',\n",
    "#    'Wild Flowers',\n",
    "#    'Wildlife'],\n",
    "#   'activity_names': ['Bird Watching',\n",
    "#    'Camping',\n",
    "#    'Hiking',\n",
    "#    'Nature Trips',\n",
    "#    'Running',\n",
    "#    'Walking'],\n",
    "#   'overview': None,\n",
    "#   'num_reviews': 1486,\n",
    "#   'units': 'i',\n",
    "#   'area_slug': 'parks/us/oregon/silver-falls-state-park',\n",
    "#   'trail_id': 10118815,\n",
    "#   'city_url': 'us/oregon/silverton',\n",
    "#   'park_slug': 'us/oregon/silver-falls-state-park',\n",
    "#   'profile_photo_url': 'https://cdn-assets.alltrails.com/uploads/photo/image/19276272/large_5f2d73678a627745af4e5c32ec7f0bbd.jpg'},"
   ]
  },
  {
   "cell_type": "code",
   "execution_count": 14,
   "metadata": {
    "collapsed": false
   },
   "outputs": [
    {
     "name": "stdout",
     "output_type": "stream",
     "text": [
      "\n",
      "          /\\\n",
      "         /**\\\n",
      "        /****\\   /\\\n",
      "       /      \\ /**\\\n",
      "      /  /\\    /    \\        /\\    /\\  /\\      /\\            /\\/\\/\\  /\\\n",
      "     /  /  \\  /      \\      /  \\/\\/  \\/  \\  /\\/  \\/\\  /\\  /\\/ / /  \\/  \\\n",
      "    /  /    \\/ /\\     \\    /    \\ \\  /    \\/ /   /  \\/  \\/  \\  /    \\   \\\n",
      "   /  /      \\/  \\/\\   \\  /      \\    /   /    \\\n",
      "__/__/_______/___/__\\___\\__________________________________________________\n",
      "\n",
      "                ╦ ╦┬┬┌─┌─┐  ┌─┐┌─┐  ╔╗ ┌─┐┌─┐┌┬┐  ╔═╗┬┌┬┐┬\n",
      "                ╠═╣│├┴┐├┤   │ │├┤   ╠╩╗├┤ └─┐ │   ╠╣ │ │ │\n",
      "                ╩ ╩┴┴ ┴└─┘  └─┘└    ╚═╝└─┘└─┘ ┴   ╚  ┴ ┴ o\n",
      "\n"
     ]
    }
   ],
   "source": [
    "#ascii art splash screen\n",
    "\n",
    "print(r\"\"\"\n",
    "          /\\\n",
    "         /**\\\n",
    "        /****\\   /\\\n",
    "       /      \\ /**\\\n",
    "      /  /\\    /    \\        /\\    /\\  /\\      /\\            /\\/\\/\\  /\\\n",
    "     /  /  \\  /      \\      /  \\/\\/  \\/  \\  /\\/  \\/\\  /\\  /\\/ / /  \\/  \\\n",
    "    /  /    \\/ /\\     \\    /    \\ \\  /    \\/ /   /  \\/  \\/  \\  /    \\   \\\n",
    "   /  /      \\/  \\/\\   \\  /      \\    /   /    \\\n",
    "__/__/_______/___/__\\___\\__________________________________________________\n",
    "\n",
    "                ╦ ╦┬┬┌─┌─┐  ┌─┐┌─┐  ╔╗ ┌─┐┌─┐┌┬┐  ╔═╗┬┌┬┐┬\n",
    "                ╠═╣│├┴┐├┤   │ │├┤   ╠╩╗├┤ └─┐ │   ╠╣ │ │ │\n",
    "                ╩ ╩┴┴ ┴└─┘  └─┘└    ╚═╝└─┘└─┘ ┴   ╚  ┴ ┴ o\n",
    "\"\"\")"
   ]
  },
  {
   "cell_type": "code",
   "execution_count": 0,
   "metadata": {
    "collapsed": false
   },
   "outputs": [
   ],
   "source": [
   ]
  },
  {
   "cell_type": "code",
   "execution_count": 53,
   "metadata": {
    "collapsed": false,
    "scrolled": true
   },
   "outputs": [
    {
     "name": "stdout",
     "output_type": "stream",
     "text": [
      "<Response [403]>\n"
     ]
    },
    {
     "name": "stdout",
     "output_type": "stream",
     "text": [
      "<Response [403]>\n"
     ]
    },
    {
     "name": "stdout",
     "output_type": "stream",
     "text": [
      "<Response [403]>\n"
     ]
    },
    {
     "name": "stdout",
     "output_type": "stream",
     "text": [
      "<Response [403]>\n"
     ]
    },
    {
     "name": "stdout",
     "output_type": "stream",
     "text": [
      "<Response [403]>\n"
     ]
    },
    {
     "name": "stdout",
     "output_type": "stream",
     "text": [
      "<Response [403]>\n"
     ]
    },
    {
     "name": "stdout",
     "output_type": "stream",
     "text": [
      "<Response [403]>\n"
     ]
    },
    {
     "name": "stdout",
     "output_type": "stream",
     "text": [
      "<Response [403]>\n"
     ]
    },
    {
     "name": "stdout",
     "output_type": "stream",
     "text": [
      "<Response [403]>\n"
     ]
    },
    {
     "name": "stdout",
     "output_type": "stream",
     "text": [
      "<Response [403]>\n"
     ]
    },
    {
     "name": "stdout",
     "output_type": "stream",
     "text": [
      "<Response [403]>\n"
     ]
    },
    {
     "name": "stdout",
     "output_type": "stream",
     "text": [
      "<Response [403]>\n"
     ]
    },
    {
     "name": "stdout",
     "output_type": "stream",
     "text": [
      "<Response [403]>\n"
     ]
    },
    {
     "name": "stdout",
     "output_type": "stream",
     "text": [
      "<Response [403]>\n"
     ]
    },
    {
     "name": "stdout",
     "output_type": "stream",
     "text": [
      "<Response [403]>\n"
     ]
    },
    {
     "name": "stdout",
     "output_type": "stream",
     "text": [
      "<Response [403]>\n"
     ]
    },
    {
     "name": "stdout",
     "output_type": "stream",
     "text": [
      "<Response [403]>\n"
     ]
    },
    {
     "name": "stdout",
     "output_type": "stream",
     "text": [
      "<Response [403]>\n"
     ]
    },
    {
     "name": "stdout",
     "output_type": "stream",
     "text": [
      "<Response [403]>\n"
     ]
    },
    {
     "name": "stdout",
     "output_type": "stream",
     "text": [
      "<Response [403]>\n"
     ]
    },
    {
     "name": "stdout",
     "output_type": "stream",
     "text": [
      "<Response [403]>\n",
      "<Response [403]>\n"
     ]
    },
    {
     "name": "stdout",
     "output_type": "stream",
     "text": [
      "<Response [403]>\n",
      "<Response [403]>\n"
     ]
    },
    {
     "name": "stdout",
     "output_type": "stream",
     "text": [
      "<Response [403]>\n"
     ]
    },
    {
     "name": "stdout",
     "output_type": "stream",
     "text": [
      "<Response [403]>\n"
     ]
    },
    {
     "name": "stdout",
     "output_type": "stream",
     "text": [
      "<Response [403]>\n"
     ]
    },
    {
     "name": "stdout",
     "output_type": "stream",
     "text": [
      "<Response [403]>\n"
     ]
    },
    {
     "ename": "KeyboardInterrupt",
     "evalue": "",
     "output_type": "error",
     "traceback": [
      "\u001b[0;31m---------------------------------------------------------------------------\u001b[0m",
      "\u001b[0;31mKeyboardInterrupt\u001b[0m                         Traceback (most recent call last)",
      "\u001b[0;32m/tmp/ipykernel_403/3043013193.py\u001b[0m in \u001b[0;36m<cell line: 10>\u001b[0;34m()\u001b[0m\n\u001b[1;32m      9\u001b[0m \u001b[0;34m\u001b[0m\u001b[0m\n\u001b[1;32m     10\u001b[0m \u001b[0;32mfor\u001b[0m \u001b[0mi\u001b[0m \u001b[0;32min\u001b[0m \u001b[0mrange\u001b[0m\u001b[0;34m(\u001b[0m\u001b[0mlen\u001b[0m\u001b[0;34m(\u001b[0m\u001b[0moregon_hikes_info\u001b[0m\u001b[0;34m)\u001b[0m\u001b[0;34m)\u001b[0m\u001b[0;34m:\u001b[0m\u001b[0;34m\u001b[0m\u001b[0;34m\u001b[0m\u001b[0m\n\u001b[0;32m---> 11\u001b[0;31m     \u001b[0mprint\u001b[0m\u001b[0;34m(\u001b[0m\u001b[0mrequests\u001b[0m\u001b[0;34m.\u001b[0m\u001b[0mget\u001b[0m\u001b[0;34m(\u001b[0m\u001b[0moregon_hikes_info\u001b[0m\u001b[0;34m[\u001b[0m\u001b[0mi\u001b[0m\u001b[0;34m]\u001b[0m\u001b[0;34m[\u001b[0m\u001b[0;34m'profile_photo_url'\u001b[0m\u001b[0;34m]\u001b[0m\u001b[0;34m)\u001b[0m\u001b[0;34m)\u001b[0m\u001b[0;34m\u001b[0m\u001b[0;34m\u001b[0m\u001b[0m\n\u001b[0m",
      "\u001b[0;32m/usr/local/lib/python3.10/dist-packages/requests/api.py\u001b[0m in \u001b[0;36mget\u001b[0;34m(url, params, **kwargs)\u001b[0m\n\u001b[1;32m     71\u001b[0m     \"\"\"\n\u001b[1;32m     72\u001b[0m \u001b[0;34m\u001b[0m\u001b[0m\n\u001b[0;32m---> 73\u001b[0;31m     \u001b[0;32mreturn\u001b[0m \u001b[0mrequest\u001b[0m\u001b[0;34m(\u001b[0m\u001b[0;34m\"get\"\u001b[0m\u001b[0;34m,\u001b[0m \u001b[0murl\u001b[0m\u001b[0;34m,\u001b[0m \u001b[0mparams\u001b[0m\u001b[0;34m=\u001b[0m\u001b[0mparams\u001b[0m\u001b[0;34m,\u001b[0m \u001b[0;34m**\u001b[0m\u001b[0mkwargs\u001b[0m\u001b[0;34m)\u001b[0m\u001b[0;34m\u001b[0m\u001b[0;34m\u001b[0m\u001b[0m\n\u001b[0m\u001b[1;32m     74\u001b[0m \u001b[0;34m\u001b[0m\u001b[0m\n\u001b[1;32m     75\u001b[0m \u001b[0;34m\u001b[0m\u001b[0m\n",
      "\u001b[0;32m/usr/local/lib/python3.10/dist-packages/requests/api.py\u001b[0m in \u001b[0;36mrequest\u001b[0;34m(method, url, **kwargs)\u001b[0m\n\u001b[1;32m     57\u001b[0m     \u001b[0;31m# cases, and look like a memory leak in others.\u001b[0m\u001b[0;34m\u001b[0m\u001b[0;34m\u001b[0m\u001b[0m\n\u001b[1;32m     58\u001b[0m     \u001b[0;32mwith\u001b[0m \u001b[0msessions\u001b[0m\u001b[0;34m.\u001b[0m\u001b[0mSession\u001b[0m\u001b[0;34m(\u001b[0m\u001b[0;34m)\u001b[0m \u001b[0;32mas\u001b[0m \u001b[0msession\u001b[0m\u001b[0;34m:\u001b[0m\u001b[0;34m\u001b[0m\u001b[0;34m\u001b[0m\u001b[0m\n\u001b[0;32m---> 59\u001b[0;31m         \u001b[0;32mreturn\u001b[0m \u001b[0msession\u001b[0m\u001b[0;34m.\u001b[0m\u001b[0mrequest\u001b[0m\u001b[0;34m(\u001b[0m\u001b[0mmethod\u001b[0m\u001b[0;34m=\u001b[0m\u001b[0mmethod\u001b[0m\u001b[0;34m,\u001b[0m \u001b[0murl\u001b[0m\u001b[0;34m=\u001b[0m\u001b[0murl\u001b[0m\u001b[0;34m,\u001b[0m \u001b[0;34m**\u001b[0m\u001b[0mkwargs\u001b[0m\u001b[0;34m)\u001b[0m\u001b[0;34m\u001b[0m\u001b[0;34m\u001b[0m\u001b[0m\n\u001b[0m\u001b[1;32m     60\u001b[0m \u001b[0;34m\u001b[0m\u001b[0m\n\u001b[1;32m     61\u001b[0m \u001b[0;34m\u001b[0m\u001b[0m\n",
      "\u001b[0;32m/usr/local/lib/python3.10/dist-packages/requests/sessions.py\u001b[0m in \u001b[0;36mrequest\u001b[0;34m(self, method, url, params, data, headers, cookies, files, auth, timeout, allow_redirects, proxies, hooks, stream, verify, cert, json)\u001b[0m\n\u001b[1;32m    585\u001b[0m         }\n\u001b[1;32m    586\u001b[0m         \u001b[0msend_kwargs\u001b[0m\u001b[0;34m.\u001b[0m\u001b[0mupdate\u001b[0m\u001b[0;34m(\u001b[0m\u001b[0msettings\u001b[0m\u001b[0;34m)\u001b[0m\u001b[0;34m\u001b[0m\u001b[0;34m\u001b[0m\u001b[0m\n\u001b[0;32m--> 587\u001b[0;31m         \u001b[0mresp\u001b[0m \u001b[0;34m=\u001b[0m \u001b[0mself\u001b[0m\u001b[0;34m.\u001b[0m\u001b[0msend\u001b[0m\u001b[0;34m(\u001b[0m\u001b[0mprep\u001b[0m\u001b[0;34m,\u001b[0m \u001b[0;34m**\u001b[0m\u001b[0msend_kwargs\u001b[0m\u001b[0;34m)\u001b[0m\u001b[0;34m\u001b[0m\u001b[0;34m\u001b[0m\u001b[0m\n\u001b[0m\u001b[1;32m    588\u001b[0m \u001b[0;34m\u001b[0m\u001b[0m\n\u001b[1;32m    589\u001b[0m         \u001b[0;32mreturn\u001b[0m \u001b[0mresp\u001b[0m\u001b[0;34m\u001b[0m\u001b[0;34m\u001b[0m\u001b[0m\n",
      "\u001b[0;32m/usr/local/lib/python3.10/dist-packages/requests/sessions.py\u001b[0m in \u001b[0;36msend\u001b[0;34m(self, request, **kwargs)\u001b[0m\n\u001b[1;32m    699\u001b[0m \u001b[0;34m\u001b[0m\u001b[0m\n\u001b[1;32m    700\u001b[0m         \u001b[0;31m# Send the request\u001b[0m\u001b[0;34m\u001b[0m\u001b[0;34m\u001b[0m\u001b[0m\n\u001b[0;32m--> 701\u001b[0;31m         \u001b[0mr\u001b[0m \u001b[0;34m=\u001b[0m \u001b[0madapter\u001b[0m\u001b[0;34m.\u001b[0m\u001b[0msend\u001b[0m\u001b[0;34m(\u001b[0m\u001b[0mrequest\u001b[0m\u001b[0;34m,\u001b[0m \u001b[0;34m**\u001b[0m\u001b[0mkwargs\u001b[0m\u001b[0;34m)\u001b[0m\u001b[0;34m\u001b[0m\u001b[0;34m\u001b[0m\u001b[0m\n\u001b[0m\u001b[1;32m    702\u001b[0m \u001b[0;34m\u001b[0m\u001b[0m\n\u001b[1;32m    703\u001b[0m         \u001b[0;31m# Total elapsed time of the request (approximately)\u001b[0m\u001b[0;34m\u001b[0m\u001b[0;34m\u001b[0m\u001b[0m\n",
      "\u001b[0;32m/usr/local/lib/python3.10/dist-packages/requests/adapters.py\u001b[0m in \u001b[0;36msend\u001b[0;34m(self, request, stream, timeout, verify, cert, proxies)\u001b[0m\n\u001b[1;32m    487\u001b[0m         \u001b[0;32mtry\u001b[0m\u001b[0;34m:\u001b[0m\u001b[0;34m\u001b[0m\u001b[0;34m\u001b[0m\u001b[0m\n\u001b[1;32m    488\u001b[0m             \u001b[0;32mif\u001b[0m \u001b[0;32mnot\u001b[0m \u001b[0mchunked\u001b[0m\u001b[0;34m:\u001b[0m\u001b[0;34m\u001b[0m\u001b[0;34m\u001b[0m\u001b[0m\n\u001b[0;32m--> 489\u001b[0;31m                 resp = conn.urlopen(\n\u001b[0m\u001b[1;32m    490\u001b[0m                     \u001b[0mmethod\u001b[0m\u001b[0;34m=\u001b[0m\u001b[0mrequest\u001b[0m\u001b[0;34m.\u001b[0m\u001b[0mmethod\u001b[0m\u001b[0;34m,\u001b[0m\u001b[0;34m\u001b[0m\u001b[0;34m\u001b[0m\u001b[0m\n\u001b[1;32m    491\u001b[0m                     \u001b[0murl\u001b[0m\u001b[0;34m=\u001b[0m\u001b[0murl\u001b[0m\u001b[0;34m,\u001b[0m\u001b[0;34m\u001b[0m\u001b[0;34m\u001b[0m\u001b[0m\n",
      "\u001b[0;32m/usr/local/lib/python3.10/dist-packages/urllib3/connectionpool.py\u001b[0m in \u001b[0;36murlopen\u001b[0;34m(self, method, url, body, headers, retries, redirect, assert_same_host, timeout, pool_timeout, release_conn, chunked, body_pos, **response_kw)\u001b[0m\n\u001b[1;32m    701\u001b[0m \u001b[0;34m\u001b[0m\u001b[0m\n\u001b[1;32m    702\u001b[0m             \u001b[0;31m# Make the request on the httplib connection object.\u001b[0m\u001b[0;34m\u001b[0m\u001b[0;34m\u001b[0m\u001b[0m\n\u001b[0;32m--> 703\u001b[0;31m             httplib_response = self._make_request(\n\u001b[0m\u001b[1;32m    704\u001b[0m                 \u001b[0mconn\u001b[0m\u001b[0;34m,\u001b[0m\u001b[0;34m\u001b[0m\u001b[0;34m\u001b[0m\u001b[0m\n\u001b[1;32m    705\u001b[0m                 \u001b[0mmethod\u001b[0m\u001b[0;34m,\u001b[0m\u001b[0;34m\u001b[0m\u001b[0;34m\u001b[0m\u001b[0m\n",
      "\u001b[0;32m/usr/local/lib/python3.10/dist-packages/urllib3/connectionpool.py\u001b[0m in \u001b[0;36m_make_request\u001b[0;34m(self, conn, method, url, timeout, chunked, **httplib_request_kw)\u001b[0m\n\u001b[1;32m    384\u001b[0m         \u001b[0;31m# Trigger any extra validation we need to do.\u001b[0m\u001b[0;34m\u001b[0m\u001b[0;34m\u001b[0m\u001b[0m\n\u001b[1;32m    385\u001b[0m         \u001b[0;32mtry\u001b[0m\u001b[0;34m:\u001b[0m\u001b[0;34m\u001b[0m\u001b[0;34m\u001b[0m\u001b[0m\n\u001b[0;32m--> 386\u001b[0;31m             \u001b[0mself\u001b[0m\u001b[0;34m.\u001b[0m\u001b[0m_validate_conn\u001b[0m\u001b[0;34m(\u001b[0m\u001b[0mconn\u001b[0m\u001b[0;34m)\u001b[0m\u001b[0;34m\u001b[0m\u001b[0;34m\u001b[0m\u001b[0m\n\u001b[0m\u001b[1;32m    387\u001b[0m         \u001b[0;32mexcept\u001b[0m \u001b[0;34m(\u001b[0m\u001b[0mSocketTimeout\u001b[0m\u001b[0;34m,\u001b[0m \u001b[0mBaseSSLError\u001b[0m\u001b[0;34m)\u001b[0m \u001b[0;32mas\u001b[0m \u001b[0me\u001b[0m\u001b[0;34m:\u001b[0m\u001b[0;34m\u001b[0m\u001b[0;34m\u001b[0m\u001b[0m\n\u001b[1;32m    388\u001b[0m             \u001b[0;31m# Py2 raises this as a BaseSSLError, Py3 raises it as socket timeout.\u001b[0m\u001b[0;34m\u001b[0m\u001b[0;34m\u001b[0m\u001b[0m\n",
      "\u001b[0;32m/usr/local/lib/python3.10/dist-packages/urllib3/connectionpool.py\u001b[0m in \u001b[0;36m_validate_conn\u001b[0;34m(self, conn)\u001b[0m\n\u001b[1;32m   1040\u001b[0m         \u001b[0;31m# Force connect early to allow us to validate the connection.\u001b[0m\u001b[0;34m\u001b[0m\u001b[0;34m\u001b[0m\u001b[0m\n\u001b[1;32m   1041\u001b[0m         \u001b[0;32mif\u001b[0m \u001b[0;32mnot\u001b[0m \u001b[0mgetattr\u001b[0m\u001b[0;34m(\u001b[0m\u001b[0mconn\u001b[0m\u001b[0;34m,\u001b[0m \u001b[0;34m\"sock\"\u001b[0m\u001b[0;34m,\u001b[0m \u001b[0;32mNone\u001b[0m\u001b[0;34m)\u001b[0m\u001b[0;34m:\u001b[0m  \u001b[0;31m# AppEngine might not have  `.sock`\u001b[0m\u001b[0;34m\u001b[0m\u001b[0;34m\u001b[0m\u001b[0m\n\u001b[0;32m-> 1042\u001b[0;31m             \u001b[0mconn\u001b[0m\u001b[0;34m.\u001b[0m\u001b[0mconnect\u001b[0m\u001b[0;34m(\u001b[0m\u001b[0;34m)\u001b[0m\u001b[0;34m\u001b[0m\u001b[0;34m\u001b[0m\u001b[0m\n\u001b[0m\u001b[1;32m   1043\u001b[0m \u001b[0;34m\u001b[0m\u001b[0m\n\u001b[1;32m   1044\u001b[0m         \u001b[0;32mif\u001b[0m \u001b[0;32mnot\u001b[0m \u001b[0mconn\u001b[0m\u001b[0;34m.\u001b[0m\u001b[0mis_verified\u001b[0m\u001b[0;34m:\u001b[0m\u001b[0;34m\u001b[0m\u001b[0;34m\u001b[0m\u001b[0m\n",
      "\u001b[0;32m/usr/local/lib/python3.10/dist-packages/urllib3/connection.py\u001b[0m in \u001b[0;36mconnect\u001b[0;34m(self)\u001b[0m\n\u001b[1;32m    412\u001b[0m             \u001b[0mcontext\u001b[0m\u001b[0;34m.\u001b[0m\u001b[0mload_default_certs\u001b[0m\u001b[0;34m(\u001b[0m\u001b[0;34m)\u001b[0m\u001b[0;34m\u001b[0m\u001b[0;34m\u001b[0m\u001b[0m\n\u001b[1;32m    413\u001b[0m \u001b[0;34m\u001b[0m\u001b[0m\n\u001b[0;32m--> 414\u001b[0;31m         self.sock = ssl_wrap_socket(\n\u001b[0m\u001b[1;32m    415\u001b[0m             \u001b[0msock\u001b[0m\u001b[0;34m=\u001b[0m\u001b[0mconn\u001b[0m\u001b[0;34m,\u001b[0m\u001b[0;34m\u001b[0m\u001b[0;34m\u001b[0m\u001b[0m\n\u001b[1;32m    416\u001b[0m             \u001b[0mkeyfile\u001b[0m\u001b[0;34m=\u001b[0m\u001b[0mself\u001b[0m\u001b[0;34m.\u001b[0m\u001b[0mkey_file\u001b[0m\u001b[0;34m,\u001b[0m\u001b[0;34m\u001b[0m\u001b[0;34m\u001b[0m\u001b[0m\n",
      "\u001b[0;32m/usr/local/lib/python3.10/dist-packages/urllib3/util/ssl_.py\u001b[0m in \u001b[0;36mssl_wrap_socket\u001b[0;34m(sock, keyfile, certfile, cert_reqs, ca_certs, server_hostname, ssl_version, ciphers, ssl_context, ca_cert_dir, key_password, ca_cert_data, tls_in_tls)\u001b[0m\n\u001b[1;32m    447\u001b[0m \u001b[0;34m\u001b[0m\u001b[0m\n\u001b[1;32m    448\u001b[0m     \u001b[0;32mif\u001b[0m \u001b[0msend_sni\u001b[0m\u001b[0;34m:\u001b[0m\u001b[0;34m\u001b[0m\u001b[0;34m\u001b[0m\u001b[0m\n\u001b[0;32m--> 449\u001b[0;31m         ssl_sock = _ssl_wrap_socket_impl(\n\u001b[0m\u001b[1;32m    450\u001b[0m             \u001b[0msock\u001b[0m\u001b[0;34m,\u001b[0m \u001b[0mcontext\u001b[0m\u001b[0;34m,\u001b[0m \u001b[0mtls_in_tls\u001b[0m\u001b[0;34m,\u001b[0m \u001b[0mserver_hostname\u001b[0m\u001b[0;34m=\u001b[0m\u001b[0mserver_hostname\u001b[0m\u001b[0;34m\u001b[0m\u001b[0;34m\u001b[0m\u001b[0m\n\u001b[1;32m    451\u001b[0m         )\n",
      "\u001b[0;32m/usr/local/lib/python3.10/dist-packages/urllib3/util/ssl_.py\u001b[0m in \u001b[0;36m_ssl_wrap_socket_impl\u001b[0;34m(sock, ssl_context, tls_in_tls, server_hostname)\u001b[0m\n\u001b[1;32m    491\u001b[0m \u001b[0;34m\u001b[0m\u001b[0m\n\u001b[1;32m    492\u001b[0m     \u001b[0;32mif\u001b[0m \u001b[0mserver_hostname\u001b[0m\u001b[0;34m:\u001b[0m\u001b[0;34m\u001b[0m\u001b[0;34m\u001b[0m\u001b[0m\n\u001b[0;32m--> 493\u001b[0;31m         \u001b[0;32mreturn\u001b[0m \u001b[0mssl_context\u001b[0m\u001b[0;34m.\u001b[0m\u001b[0mwrap_socket\u001b[0m\u001b[0;34m(\u001b[0m\u001b[0msock\u001b[0m\u001b[0;34m,\u001b[0m \u001b[0mserver_hostname\u001b[0m\u001b[0;34m=\u001b[0m\u001b[0mserver_hostname\u001b[0m\u001b[0;34m)\u001b[0m\u001b[0;34m\u001b[0m\u001b[0;34m\u001b[0m\u001b[0m\n\u001b[0m\u001b[1;32m    494\u001b[0m     \u001b[0;32melse\u001b[0m\u001b[0;34m:\u001b[0m\u001b[0;34m\u001b[0m\u001b[0;34m\u001b[0m\u001b[0m\n\u001b[1;32m    495\u001b[0m         \u001b[0;32mreturn\u001b[0m \u001b[0mssl_context\u001b[0m\u001b[0;34m.\u001b[0m\u001b[0mwrap_socket\u001b[0m\u001b[0;34m(\u001b[0m\u001b[0msock\u001b[0m\u001b[0;34m)\u001b[0m\u001b[0;34m\u001b[0m\u001b[0;34m\u001b[0m\u001b[0m\n",
      "\u001b[0;32m/usr/lib/python3.10/ssl.py\u001b[0m in \u001b[0;36mwrap_socket\u001b[0;34m(self, sock, server_side, do_handshake_on_connect, suppress_ragged_eofs, server_hostname, session)\u001b[0m\n\u001b[1;32m    511\u001b[0m         \u001b[0;31m# SSLSocket class handles server_hostname encoding before it calls\u001b[0m\u001b[0;34m\u001b[0m\u001b[0;34m\u001b[0m\u001b[0m\n\u001b[1;32m    512\u001b[0m         \u001b[0;31m# ctx._wrap_socket()\u001b[0m\u001b[0;34m\u001b[0m\u001b[0;34m\u001b[0m\u001b[0m\n\u001b[0;32m--> 513\u001b[0;31m         return self.sslsocket_class._create(\n\u001b[0m\u001b[1;32m    514\u001b[0m             \u001b[0msock\u001b[0m\u001b[0;34m=\u001b[0m\u001b[0msock\u001b[0m\u001b[0;34m,\u001b[0m\u001b[0;34m\u001b[0m\u001b[0;34m\u001b[0m\u001b[0m\n\u001b[1;32m    515\u001b[0m             \u001b[0mserver_side\u001b[0m\u001b[0;34m=\u001b[0m\u001b[0mserver_side\u001b[0m\u001b[0;34m,\u001b[0m\u001b[0;34m\u001b[0m\u001b[0;34m\u001b[0m\u001b[0m\n",
      "\u001b[0;32m/usr/lib/python3.10/ssl.py\u001b[0m in \u001b[0;36m_create\u001b[0;34m(cls, sock, server_side, do_handshake_on_connect, suppress_ragged_eofs, server_hostname, context, session)\u001b[0m\n\u001b[1;32m   1069\u001b[0m                         \u001b[0;31m# non-blocking\u001b[0m\u001b[0;34m\u001b[0m\u001b[0;34m\u001b[0m\u001b[0m\n\u001b[1;32m   1070\u001b[0m                         \u001b[0;32mraise\u001b[0m \u001b[0mValueError\u001b[0m\u001b[0;34m(\u001b[0m\u001b[0;34m\"do_handshake_on_connect should not be specified for non-blocking sockets\"\u001b[0m\u001b[0;34m)\u001b[0m\u001b[0;34m\u001b[0m\u001b[0;34m\u001b[0m\u001b[0m\n\u001b[0;32m-> 1071\u001b[0;31m                     \u001b[0mself\u001b[0m\u001b[0;34m.\u001b[0m\u001b[0mdo_handshake\u001b[0m\u001b[0;34m(\u001b[0m\u001b[0;34m)\u001b[0m\u001b[0;34m\u001b[0m\u001b[0;34m\u001b[0m\u001b[0m\n\u001b[0m\u001b[1;32m   1072\u001b[0m             \u001b[0;32mexcept\u001b[0m \u001b[0;34m(\u001b[0m\u001b[0mOSError\u001b[0m\u001b[0;34m,\u001b[0m \u001b[0mValueError\u001b[0m\u001b[0;34m)\u001b[0m\u001b[0;34m:\u001b[0m\u001b[0;34m\u001b[0m\u001b[0;34m\u001b[0m\u001b[0m\n\u001b[1;32m   1073\u001b[0m                 \u001b[0mself\u001b[0m\u001b[0;34m.\u001b[0m\u001b[0mclose\u001b[0m\u001b[0;34m(\u001b[0m\u001b[0;34m)\u001b[0m\u001b[0;34m\u001b[0m\u001b[0;34m\u001b[0m\u001b[0m\n",
      "\u001b[0;32m/usr/lib/python3.10/ssl.py\u001b[0m in \u001b[0;36mdo_handshake\u001b[0;34m(self, block)\u001b[0m\n\u001b[1;32m   1340\u001b[0m             \u001b[0;32mif\u001b[0m \u001b[0mtimeout\u001b[0m \u001b[0;34m==\u001b[0m \u001b[0;36m0.0\u001b[0m \u001b[0;32mand\u001b[0m \u001b[0mblock\u001b[0m\u001b[0;34m:\u001b[0m\u001b[0;34m\u001b[0m\u001b[0;34m\u001b[0m\u001b[0m\n\u001b[1;32m   1341\u001b[0m                 \u001b[0mself\u001b[0m\u001b[0;34m.\u001b[0m\u001b[0msettimeout\u001b[0m\u001b[0;34m(\u001b[0m\u001b[0;32mNone\u001b[0m\u001b[0;34m)\u001b[0m\u001b[0;34m\u001b[0m\u001b[0;34m\u001b[0m\u001b[0m\n\u001b[0;32m-> 1342\u001b[0;31m             \u001b[0mself\u001b[0m\u001b[0;34m.\u001b[0m\u001b[0m_sslobj\u001b[0m\u001b[0;34m.\u001b[0m\u001b[0mdo_handshake\u001b[0m\u001b[0;34m(\u001b[0m\u001b[0;34m)\u001b[0m\u001b[0;34m\u001b[0m\u001b[0;34m\u001b[0m\u001b[0m\n\u001b[0m\u001b[1;32m   1343\u001b[0m         \u001b[0;32mfinally\u001b[0m\u001b[0;34m:\u001b[0m\u001b[0;34m\u001b[0m\u001b[0;34m\u001b[0m\u001b[0m\n\u001b[1;32m   1344\u001b[0m             \u001b[0mself\u001b[0m\u001b[0;34m.\u001b[0m\u001b[0msettimeout\u001b[0m\u001b[0;34m(\u001b[0m\u001b[0mtimeout\u001b[0m\u001b[0;34m)\u001b[0m\u001b[0;34m\u001b[0m\u001b[0;34m\u001b[0m\u001b[0m\n",
      "\u001b[0;31mKeyboardInterrupt\u001b[0m: "
     ]
    }
   ],
   "source": [
    "import requests\n",
    "import json\n",
    "response = requests.get(js[0]['url'])\n",
    "\n",
    "url = 'https://raw.githubusercontent.com/j-ane/trail-data/master/State%20Trail%20Data/Oregon.json'\n",
    "\n",
    "data = requests.get(url)\n",
    "oregon_hikes_info = json.loads(data.text)\n",
    "\n",
    "for i in range(len(oregon_hikes_info)):\n",
    "    print(requests.get(oregon_hikes_info[i]['profile_photo_url']))\n",
    "    "
   ]
  },
  {
   "cell_type": "code",
   "execution_count": 0,
   "metadata": {
    "collapsed": false
   },
   "outputs": [
   ],
   "source": [
    "\"name\": \"Sandy River Trail\", \"popularity\": 9.8378, \"type\": \"trail\", \"_geoloc\": {\"lat\": 45.46845, \"lng\": -122.25123}, \"length\": 5954.558, \"elevation_gain\": 252.984, \"difficulty_rating\": \"3\", \"route_type\": \"O\", \"visitor_usage\": \"1\", \"avg_rating\": 4.0, \"area_id\": 10121210, \"area_name\": \"Oxbow Regional Park\", \"country_id\": 313, \"country_name\": \"United States\", \"city_id\": 1809, \"city_name\": \"Corbett\", \"state_id\": 38, \"state_name\": \"Oregon\", \"verified_map_id\": 13261698, \"features\": [\"dogs-no\", \"forest\", \"kids\", \"river\", \"wild-flowers\"], \"activities\": [\"birding\", \"hiking\", \"nature-trips\", \"trail-running\", \"walking\"], \"feature_names\": [\"Dogs No\", \"Forest\", \"Kid Friendly\", \"River\", \"Wild Flowers\"], \"activity_names\": [\"Bird Watching\", \"Hiking\", \"Nature Trips\", \"Running\", \"Walking\"], \""
   ]
  }
 ],
 "metadata": {
  "kernelspec": {
   "argv": [
    "/usr/bin/python3",
    "-m",
    "ipykernel",
    "--HistoryManager.enabled=False",
    "--matplotlib=inline",
    "-c",
    "%config InlineBackend.figure_formats = set(['retina'])\nimport matplotlib; matplotlib.rcParams['figure.figsize'] = (12, 7)",
    "-f",
    "{connection_file}"
   ],
   "display_name": "Python 3 (system-wide)",
   "env": {
   },
   "language": "python",
   "metadata": {
    "cocalc": {
     "description": "Python 3 programming language",
     "priority": 100,
     "url": "https://www.python.org/"
    }
   },
   "name": "python3",
   "resource_dir": "/ext/jupyter/kernels/python3"
  },
  "language_info": {
   "codemirror_mode": {
    "name": "ipython",
    "version": 3
   },
   "file_extension": ".py",
   "mimetype": "text/x-python",
   "name": "python",
   "nbconvert_exporter": "python",
   "pygments_lexer": "ipython3",
   "version": "3.10.6"
  }
 },
 "nbformat": 4,
 "nbformat_minor": 4
}